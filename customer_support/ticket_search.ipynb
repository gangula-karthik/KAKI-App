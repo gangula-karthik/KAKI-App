{
 "cells": [
  {
   "cell_type": "markdown",
   "metadata": {},
   "source": [
    "## Build Semantic Search System With The Haystack Python Framework "
   ]
  },
  {
   "cell_type": "code",
   "execution_count": 19,
   "metadata": {},
   "outputs": [
    {
     "name": "stdout",
     "output_type": "stream",
     "text": [
      "\n",
      "\n",
      "======================\n",
      "\n",
      "\n",
      "Query: This is a sample query\n",
      "\n",
      "Top 5 most similar sentences in corpus:\n",
      "This is an example sentence (Score: 0.7110)\n",
      "These embeddings are then compared for semantic similarity (Score: 0.6175)\n",
      "Each sentence is converted into a list of embeddings (Score: 0.5886)\n"
     ]
    }
   ],
   "source": [
    "# pros: more accurate \n",
    "# cons: slower, more complex\n",
    "\n",
    "from sentence_transformers import SentenceTransformer\n",
    "from sklearn.metrics.pairwise import cosine_similarity\n",
    "\n",
    "model = SentenceTransformer('bert-base-nli-mean-tokens')\n",
    "\n",
    "sentences = ['This is an example sentence', 'Each sentence is converted into a list of embeddings', 'These embeddings are then compared for semantic similarity']\n",
    "\n",
    "\n",
    "sentence_embeddings = model.encode(sentences)\n",
    "\n",
    "query = 'This is a sample query'\n",
    "query_embedding = model.encode([query])[0]\n",
    "\n",
    "cos_scores = cosine_similarity([query_embedding], sentence_embeddings)[0]\n",
    "top_results = cos_scores.argsort()[-5:][::-1]\n",
    "\n",
    "print(\"\\n\\n======================\\n\\n\")\n",
    "print(\"Query:\", query)\n",
    "print(\"\\nTop 5 most similar sentences in corpus:\")\n",
    "\n",
    "for idx in top_results:\n",
    "    print(sentences[idx].strip(), \"(Score: %.4f)\" % (cos_scores[idx]))"
   ]
  },
  {
   "cell_type": "code",
   "execution_count": 26,
   "metadata": {},
   "outputs": [
    {
     "name": "stdout",
     "output_type": "stream",
     "text": [
      "['This is an example sentence', 'Each sentence is converted into a list of embeddings']\n"
     ]
    }
   ],
   "source": [
    "#pros: faster, simpler\n",
    "#cons: less accurate\n",
    "\n",
    "from sklearn.feature_extraction.text import TfidfVectorizer\n",
    "from sklearn.metrics.pairwise import cosine_similarity\n",
    "\n",
    "\n",
    "documents = ['This is an example sentence', 'Each sentence is converted into a list of embeddings', 'These embeddings are then compared for semantic similarity']\n",
    "\n",
    "vectorizer = TfidfVectorizer()\n",
    "X = vectorizer.fit_transform(documents)\n",
    "\n",
    "\n",
    "query = vectorizer.transform(['This is a sample query'])\n",
    "cosine_similarities = cosine_similarity(query, X).flatten()\n",
    "\n",
    "relevant_docs = [doc for doc, score in zip(documents, cosine_similarities) if score >= 0.5]\n",
    "\n",
    "print(relevant_docs)"
   ]
  },
  {
   "cell_type": "code",
   "execution_count": null,
   "metadata": {},
   "outputs": [],
   "source": []
  }
 ],
 "metadata": {
  "kernelspec": {
   "display_name": "venv",
   "language": "python",
   "name": "python3"
  },
  "language_info": {
   "codemirror_mode": {
    "name": "ipython",
    "version": 3
   },
   "file_extension": ".py",
   "mimetype": "text/x-python",
   "name": "python",
   "nbconvert_exporter": "python",
   "pygments_lexer": "ipython3",
   "version": "3.10.12"
  },
  "orig_nbformat": 4
 },
 "nbformat": 4,
 "nbformat_minor": 2
}
