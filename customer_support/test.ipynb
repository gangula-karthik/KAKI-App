{
 "cells": [
  {
   "cell_type": "code",
   "execution_count": 1,
   "metadata": {},
   "outputs": [],
   "source": [
    "import firebase_admin\n",
    "from firebase_admin import credentials\n",
    "from firebase_admin import db"
   ]
  },
  {
   "cell_type": "code",
   "execution_count": 2,
   "metadata": {},
   "outputs": [
    {
     "ename": "NameError",
     "evalue": "name 'cred_object' is not defined",
     "output_type": "error",
     "traceback": [
      "\u001b[0;31m---------------------------------------------------------------------------\u001b[0m",
      "\u001b[0;31mNameError\u001b[0m                                 Traceback (most recent call last)",
      "Cell \u001b[0;32mIn[2], line 4\u001b[0m\n\u001b[1;32m      1\u001b[0m \u001b[39mimport\u001b[39;00m \u001b[39mfirebase_admin\u001b[39;00m\n\u001b[1;32m      3\u001b[0m cred_obj \u001b[39m=\u001b[39m firebase_admin\u001b[39m.\u001b[39mcredentials\u001b[39m.\u001b[39mCertificate(\u001b[39m'\u001b[39m\u001b[39m../Account_management/credentials.json\u001b[39m\u001b[39m'\u001b[39m)\n\u001b[0;32m----> 4\u001b[0m default_app \u001b[39m=\u001b[39m firebase_admin\u001b[39m.\u001b[39minitialize_app(cred_object, {\n\u001b[1;32m      5\u001b[0m \t\u001b[39m'\u001b[39m\u001b[39mdatabaseURL\u001b[39m\u001b[39m'\u001b[39m: \u001b[39m\"\u001b[39m\u001b[39mhttps://kaki-db097-default-rtdb.asia-southeast1.firebasedatabase.app/\u001b[39m\u001b[39m\"\u001b[39m\n\u001b[1;32m      6\u001b[0m })\n",
      "\u001b[0;31mNameError\u001b[0m: name 'cred_object' is not defined"
     ]
    }
   ],
   "source": [
    "import firebase_admin\n",
    "\n",
    "cred_obj = firebase_admin.credentials.Certificate('../Account_management/credentials.json')\n",
    "default_app = firebase_admin.initialize_app(cred_object, {\n",
    "\t'databaseURL': \"https://kaki-db097-default-rtdb.asia-southeast1.firebasedatabase.app/\"\n",
    "})"
   ]
  },
  {
   "cell_type": "code",
   "execution_count": null,
   "metadata": {},
   "outputs": [],
   "source": []
  }
 ],
 "metadata": {
  "kernelspec": {
   "display_name": "venv",
   "language": "python",
   "name": "python3"
  },
  "language_info": {
   "codemirror_mode": {
    "name": "ipython",
    "version": 3
   },
   "file_extension": ".py",
   "mimetype": "text/x-python",
   "name": "python",
   "nbconvert_exporter": "python",
   "pygments_lexer": "ipython3",
   "version": "3.10.12"
  },
  "orig_nbformat": 4
 },
 "nbformat": 4,
 "nbformat_minor": 2
}
